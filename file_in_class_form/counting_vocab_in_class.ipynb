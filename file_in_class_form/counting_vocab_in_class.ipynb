{
 "cells": [
  {
   "cell_type": "code",
   "execution_count": 1,
   "metadata": {},
   "outputs": [],
   "source": [
    "class logger:\n",
    "    def __init__(self, log_name = \"log.txt\"):\n",
    "        self.log_name = log_name\n",
    "        self.f = open(f\"{self.log_name}\",'w')\n",
    "    \n",
    "    def write_log(self,message,level='INFO'):\n",
    "        self.f = open(f\"{self.log_name}\",'a')\n",
    "        self.f.write(f\"{level} :: {message}\\n\")\n",
    "        self.f.close()\n",
    "    \n",
    "    \n",
    "    def __del__(self):\n",
    "        self.f.close()"
   ]
  },
  {
   "cell_type": "code",
   "execution_count": 2,
   "metadata": {},
   "outputs": [],
   "source": [
    "class count_vocab:\n",
    "    def __init__(self , input_source = \"input.txt\", output_destination = \"output.txt\" ,log_name = \"log.txt\"):\n",
    "        \n",
    "        #Initialization\n",
    "        self.temp_loger =logger(log_name)#make logger \n",
    "        self.__total_dictionary = {}#make table\n",
    "        \n",
    "        #read\n",
    "        self.read(f\"{input_source}\")\n",
    "        \n",
    "        #process\n",
    "        self.counting(self.input_readlines)\n",
    "        \n",
    "        #write\n",
    "        y = self.write(f\"{output_destination}\")\n",
    "        \n",
    "        \n",
    "    #@staticmethod\n",
    "    def read(self,source):\n",
    "        try:\n",
    "            f = open(f\"{source}\",'r')\n",
    "            self.input_readlines = f.readlines()\n",
    "            f.close()\n",
    "            self.temp_loger.write_log(\"source file open\",\"INFO\")\n",
    "            return True\n",
    "        except:\n",
    "            self.temp_loger.write_log(\"can't open file!\",\"ERR \")\n",
    "            return False\n",
    "        \n",
    "        \n",
    "    #@staticmethod\n",
    "    def write(self,source):\n",
    "        \n",
    "        output = []\n",
    "        for key,value in self.__total_dictionary.items():\n",
    "            output.append(f'{key},{value}\\n')\n",
    "        print(output)\n",
    "        \n",
    "        try:\n",
    "            f = open(f\"{source}\",'w')\n",
    "            f.writelines(output)\n",
    "            f.close()\n",
    "            self.temp_loger.write_log(\"destination file was created\",\"INFO\")\n",
    "            return True\n",
    "        except:\n",
    "            self.temp_loger.write_log(\"can't close file for writing!\",\"ERR \")\n",
    "            return False\n",
    "    \n",
    "    \n",
    "\n",
    "    def preProcessing_line(self,line):\n",
    "        punctuation = ['.', '?', '!', \n",
    "           ',', ';', ':', \n",
    "           '-', 'â', 'â', \n",
    "           '\"', '...', '(', \n",
    "           ')', '(', ')', \n",
    "           'â', '/', '<', \n",
    "           '>', '{', '}',\n",
    "           '&']\n",
    "        line_without_punctuation = line\n",
    "        for i in punctuation:\n",
    "            line_without_punctuation = line_without_punctuation.replace(i, \"\")       \n",
    "        \n",
    "        return line_without_punctuation\n",
    "\n",
    "    def counting(self, context_inarray_form):\n",
    "        temp = []\n",
    "        for line in context_inarray_form:\n",
    "            temp = self.preProcessing_line(line)\n",
    "            temp = temp.lower().strip().split(\" \")\n",
    "            for vocab in temp:\n",
    "                try:\n",
    "                    self.__total_dictionary[vocab] = self.__total_dictionary[vocab] + 1 \n",
    "                    self.temp_loger.write_log(f\"find a another {vocab} in context\",\"INFO\")\n",
    "                except:\n",
    "                    self.__total_dictionary[vocab] = 1     \n",
    "                    self.temp_loger.write_log(f\"first a first {vocab} in context\",\"INFO\")\n",
    "                    \n"
   ]
  },
  {
   "cell_type": "code",
   "execution_count": 3,
   "metadata": {},
   "outputs": [
    {
     "name": "stdout",
     "output_type": "stream",
     "text": [
      "['welcome,1\\n', 'to,1\\n', 'great,1\\n', 'learning,3\\n', 'now,1\\n', 'start,1\\n', 'is,1\\n', 'a,1\\n', 'good,1\\n', 'practice,1\\n']\n"
     ]
    }
   ],
   "source": [
    "x = count_vocab()"
   ]
  },
  {
   "cell_type": "code",
   "execution_count": 4,
   "metadata": {},
   "outputs": [
    {
     "name": "stdout",
     "output_type": "stream",
     "text": [
      "['my,11\\n', 'wonderful,1\\n', 'family,3\\n', ',2\\n', 'i,6\\n', 'live,1\\n', 'in,3\\n', 'a,5\\n', 'house,1\\n', 'near,1\\n', 'the,4\\n', 'mountains,2\\n', 'have,2\\n', 'two,2\\n', 'brothers,3\\n', 'and,6\\n', 'one,1\\n', 'sister,3\\n', 'was,2\\n', 'born,1\\n', 'last,1\\n', 'father,1\\n', 'teaches,1\\n', 'mathematics,1\\n', 'mother,1\\n', 'is,5\\n', 'nurse,1\\n', 'at,1\\n', 'big,1\\n', 'hospital,1\\n', 'are,1\\n', 'very,5\\n', 'smart,1\\n', 'work,1\\n', 'hard,1\\n', 'school,1\\n', 'nervous,1\\n', 'girl,1\\n', 'but,2\\n', 'she,5\\n', 'kind,1\\n', 'grandmother,2\\n', 'also,1\\n', 'lives,1\\n', 'with,2\\n', 'us,1\\n', 'came,1\\n', 'from,1\\n', 'italy,1\\n', 'when,1\\n', 'years,1\\n', 'old,2\\n', 'has,1\\n', 'grown,1\\n', 'still,1\\n', 'strong,1\\n', 'cooks,1\\n', 'best,1\\n', 'food,1\\n', 'important,1\\n', 'to,3\\n', 'me,1\\n', 'we,3\\n', 'do,1\\n', 'lots,1\\n', 'of,1\\n', 'things,1\\n', 'together,2\\n', 'like,1\\n', 'go,1\\n', 'on,2\\n', 'long,1\\n', 'walks,1\\n', 'likes,1\\n', 'cook,1\\n', 'weekends,1\\n', 'all,1\\n', 'play,1\\n', 'board,1\\n', 'games,1\\n', 'laugh,1\\n', 'always,1\\n', 'good,1\\n', 'time,1\\n', 'love,1\\n', 'much,1\\n']\n"
     ]
    }
   ],
   "source": [
    "n = count_vocab(\"input2.txt\",\"output2.txt\",\"log2.txt\")"
   ]
  },
  {
   "cell_type": "raw",
   "metadata": {},
   "source": []
  },
  {
   "cell_type": "raw",
   "metadata": {},
   "source": []
  },
  {
   "cell_type": "raw",
   "metadata": {},
   "source": []
  }
 ],
 "metadata": {
  "kernelspec": {
   "display_name": "Python 3",
   "language": "python",
   "name": "python3"
  },
  "language_info": {
   "codemirror_mode": {
    "name": "ipython",
    "version": 3
   },
   "file_extension": ".py",
   "mimetype": "text/x-python",
   "name": "python",
   "nbconvert_exporter": "python",
   "pygments_lexer": "ipython3",
   "version": "3.7.4"
  }
 },
 "nbformat": 4,
 "nbformat_minor": 2
}
